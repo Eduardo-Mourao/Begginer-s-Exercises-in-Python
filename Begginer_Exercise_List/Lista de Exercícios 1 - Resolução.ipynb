{
 "cells": [
  {
   "cell_type": "markdown",
   "metadata": {},
   "source": [
    "# Lista de Exercícios 1\n",
    "\n",
    "### Esta é a lista de exercícios práticos onde serão trabalhados conceitos apresentados e exercitados em sala de aula\n",
    "\n",
    "### Aspectos como clareza e organização do código, comentários, raciocínio lógico, coerência no nome de variáveis, classes e funções, utilização das estruturas mais adequadas para a solução dos problemas e o funcionamento adequado serão analisados.\n",
    "\n",
    "### Procure entender exatamente o que se pede antes de iniciar a codificação. Quando se sabe o que é necessário fazer a codificação fica mais fácil, mais eficiente e mais divertida ;-)\n",
    "\n",
    "\n",
    "### Por fim, boa sorte e enjoy!"
   ]
  },
  {
   "cell_type": "markdown",
   "metadata": {},
   "source": [
    "<hr>"
   ]
  },
  {
   "cell_type": "markdown",
   "metadata": {},
   "source": [
    "## Exercício 1\n",
    "\n",
    "### Crie uma função com o nome *prime_number* que receberá um número como argumento. \n",
    "### Regras:\n",
    "* O argumento recebido pela função deverá ser inteiro e positivo e maior que zero, caso negativo deverá retornar a mensagem \"invalid argument\"\n",
    "* Caso o argumento recebido seja válido, a função deverá verificar se trata-se de um número primo e caso positivo, retornar a mensagem \"prime number\", caso contrário \"not a prime number\"\n",
    "* O valor máximo que a função calculará é de 5,5 * 10^7. Caso o número passado como argumento seja maior, retornar a mensagem \"argument out of range\""
   ]
  },
  {
   "cell_type": "code",
   "execution_count": 617,
   "metadata": {},
   "outputs": [],
   "source": [
    "import math\n",
    "from itertools import count, islice\n",
    "\n",
    "def prime_number(x):      \n",
    "    \n",
    "    if x <= 0:\n",
    "        return (\"invalid argument\")\n",
    "    elif x == 1:\n",
    "        return (\"not a prime number\")\n",
    "    \n",
    "    if x > 1:\n",
    "        while x > 5.5*10**7:\n",
    "            return (\"argument out of range\")\n",
    "        for i in islice(count(2), int(sqrt(x)-1)):\n",
    "            if x % i == 0:\n",
    "                return (\"not a prime Number\")\n",
    "            \n",
    "        return (\"prime number\")"
   ]
  },
  {
   "cell_type": "code",
   "execution_count": 630,
   "metadata": {},
   "outputs": [
    {
     "name": "stdout",
     "output_type": "stream",
     "text": [
      "argument out of range\n"
     ]
    }
   ],
   "source": [
    "print (prime_number(5000000000000000))"
   ]
  },
  {
   "cell_type": "markdown",
   "metadata": {},
   "source": [
    "## Exercício 2\n",
    "\n",
    "### Crie uma função com o nome *sum_of_products* que receba duas listas numéricas como argumento.\n",
    "\n",
    "### Regras:\n",
    "* Verificar todo o conteúdo das duas listas e retornar a mensagem de erro \"wrong number\" caso algum elemento não seja um número\n",
    "* A função deverá retornar a soma dos produtos de elementos de mesmo indice de cada lista\n",
    "* Caso uma das listas tenha mais elementos que a outra, considere o valor 1 para o produto com cada elemento da lista com maior número de elementos\n",
    "* Caso as duas listas estejam vazias, retornar -1."
   ]
  },
  {
   "cell_type": "code",
   "execution_count": null,
   "metadata": {},
   "outputs": [],
   "source": [
    "import math #Importar bibliotecas\n",
    "from itertools import count, islice #Importar bibliotecas\n",
    "\n",
    "def sum_of_products(l1, l2): #definição de função\n",
    "    for numero in l1 or l2: # para número dentro de l1 ou l2\n",
    "        if not numero.isdigit(): #se número não for dígito\n",
    "            return ('wrong number') #retorno wrong number\n",
    "            break #break para não ficar contando para todo elemento da lista\n",
    "        \n",
    "    if l1 == []: #se l1 = vazio\n",
    "        if l2 == []: #se l2 = vazio\n",
    "            return ('-1') #retorno -1\n",
    "            \n",
    "    if len(l1) != len(l2): # se o tamanho de l1 diferente de l2\n",
    "        l1 = [int(i) for i in l1] #transformo l1 em int\n",
    "        l2 = [int(i) for i in l2] #transformo l2 em int\n",
    "        produto = [l1[0] * l2[0], l1[1] * l2[1], l1[2] * l2[2], l1[3] * l2[3], 1] #cálculo do produto e atribuição de 1 para o produto da lista que tiver maior argumento\n",
    "        return produto #retorno o produto\n",
    "                   \n",
    "print (sum_of_products(l1, l2)) #print da função\n",
    "\n",
    "#%%\n",
    "\n",
    "import statistics as st #importo biblioteca\n"
   ]
  },
  {
   "cell_type": "markdown",
   "metadata": {},
   "source": [
    "<hr>"
   ]
  },
  {
   "cell_type": "markdown",
   "metadata": {},
   "source": [
    "## Exercício 3\n",
    "\n",
    "### Supondo que a população de um país A seja da ordem de 90.000.000 habitantes com uma taxa anual de crescimento de 3% ao ano e que a população de um país B seja aproximadamente de 200.000.000 habitantes com uma taxa anual de cresciemento de 1,5% ao ano\n",
    "\n",
    "### Crie uma função de nome *growth_rate* que calcule e retorne o número de anos necessários para que a população do país A ultrapasse ou iguale a população do país B, mantidas essas taxas de crescimento.\n",
    "\n",
    "### Regras:\n",
    "* A função deverá receber 2 argumentos, population_a e population_b e verificar se são numéricos inteiros e maiores que zero\n",
    "* Caso um dos argumentos não obedeça a condição acima, a função deverá retornar a mensagem \"invalid argument\""
   ]
  },
  {
   "cell_type": "code",
   "execution_count": null,
   "metadata": {},
   "outputs": [],
   "source": [
    "import math #Importar bibliotecas\n",
    "from itertools import count, islice #Importar bibliotecas\n",
    "\n",
    "def growth_rate(population_a, population_b): #definição de função\n",
    "    t=0 #coloco que meu t é 0\n",
    "    if type(population_a) != int or type(population_b) != int: #se o tipo de população_a ou população_b é diferente inteiro\n",
    "        return ('invalid argument') # retorno argumento inválido\n",
    "    elif population_a < 0 or population_b < 0: #senão se população for menor que 0 ou população b menor que 0\n",
    "        return ('invalid argument') #retorno argumento inválido\n",
    "    else: #senão\n",
    "        while population_a < population_b: #enquanto popA < popB\n",
    "            population_a = (population_a * 0.03) + population_a #populaçãoA = PopulaçãoA * 0,03 + popA\n",
    "            population_b = (population_b * 0.015) + population_b #populaçãoB = PopulaçãoB * 0,03 + popB\n",
    "            t = t + 1 #contagem de tempo\n",
    "            continue #continuar pra printar a função aqui dentro desse bloco\n",
    "\n",
    "        return (t,'ano(s)') #retorno T em anos\n",
    "print (growth_rate(90000000, 200000000))\n",
    "\n",
    "#%%\n"
   ]
  },
  {
   "cell_type": "markdown",
   "metadata": {},
   "source": [
    "<hr>"
   ]
  },
  {
   "cell_type": "markdown",
   "metadata": {},
   "source": [
    "## Exercício 4\n",
    "\n",
    "### Crie uma função chamada *count_list* que receberá uma lista de números como argumento.\n",
    "\n",
    "### A função deverá retornar um *dictionary* com as seguintes informações a respeito dos elementos da lista:\n",
    "* **max** - o maior elemento\n",
    "* **sum** - a soma dos elementos\n",
    "* **occurs** - o número de ocorrências do primeiro elemento da lista\n",
    "* **mean** - a média dos elementos\n",
    "* **near-mean** - o valor mais próximo da média dos elementos\n",
    "* **minus** - a soma dos elementos com valor negativo"
   ]
  },
  {
   "cell_type": "code",
   "execution_count": null,
   "metadata": {},
   "outputs": [],
   "source": [
    "import math #Importar bibliotecas\n",
    "from itertools import count, islice #Importar bibliotecas\n",
    "\n",
    "def count_list (l1): #definição de função\n",
    "    \n",
    "    dictionary = {'max': 1, 'sum': 2, 'occurs': 3, 'mean': 4, 'near-mean': 5, 'minus': 6} #deifnição de dicionário\n",
    "        \n",
    "    if type(l1) == list: #se tipo de l1 = lista       \n",
    "    \n",
    "            #navegação dicionário\n",
    "            #dictionary.keys() #descobre chaves\n",
    "            #dictionary.values() #descobre valores\n",
    "            #dictionary.['max'] pega o valor máximo\n",
    "    \n",
    "        dictionary['max'] = max(l1) #máximo\n",
    "        dictionary['sum'] = sum(l1) #soma\n",
    "        dictionary['occurs'] = l1.count(l1[0]) #repetição dos valores nesse índice\n",
    "        dictionary['mean'] = st.mean(l1) #média\n",
    "        dictionary['near-mean'] = min(l1, key=lambda x:abs(x-st.mean(l1))) #valor mais próximo da média\n",
    "        dictionary['minus'] = sum(number for number in l1 if number < 0) #soma de valores negativos\n",
    "    \n",
    "        return dictionary #retorno dicionário\n",
    "    else: #senão\n",
    "        return 'Apenas Formato Lista' #retorno apenas formato lista"
   ]
  },
  {
   "cell_type": "code",
   "execution_count": null,
   "metadata": {},
   "outputs": [],
   "source": []
  }
 ],
 "metadata": {
  "kernelspec": {
   "display_name": "Python 3",
   "language": "python",
   "name": "python3"
  },
  "language_info": {
   "codemirror_mode": {
    "name": "ipython",
    "version": 3
   },
   "file_extension": ".py",
   "mimetype": "text/x-python",
   "name": "python",
   "nbconvert_exporter": "python",
   "pygments_lexer": "ipython3",
   "version": "3.7.6"
  }
 },
 "nbformat": 4,
 "nbformat_minor": 2
}
